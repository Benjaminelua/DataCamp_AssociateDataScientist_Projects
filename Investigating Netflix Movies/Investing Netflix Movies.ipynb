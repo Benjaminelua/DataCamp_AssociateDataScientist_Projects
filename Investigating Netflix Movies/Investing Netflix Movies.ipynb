{
 "cells": [
  {
   "cell_type": "markdown",
   "id": "937acf3c-c077-4ca6-8d90-8f6dd4d13c54",
   "metadata": {},
   "source": [
    "<center><img src=\"redpopcorn.jpg\"></center>"
   ]
  },
  {
   "cell_type": "markdown",
   "id": "5962b2cd-17bb-4ec9-b2d5-68537ca26860",
   "metadata": {},
   "source": [
    "**Netflix**! What started in 1997 as a DVD rental service has since exploded into one of the largest entertainment and media companies.\n",
    "\n",
    "Given the large number of movies and series available on the platform, it is a perfect opportunity to flex your exploratory data analysis skills and dive into the entertainment industry.\n",
    "\n",
    "You work for a production company that specializes in nostalgic styles. You want to do some research on movies released in the 1990's. You'll delve into Netflix data and perform exploratory data analysis to better understand this awesome movie decade!\n",
    "\n",
    "You have been supplied with the dataset `netflix_data.csv`, along with the following table detailing the column names and descriptions. Feel free to experiment further after submitting!\n",
    "\n",
    "## The data\n",
    "### **netflix_data.csv**\n",
    "| Column | Description |\n",
    "|--------|-------------|\n",
    "| `show_id` | The ID of the show |\n",
    "| `type` | Type of show |\n",
    "| `title` | Title of the show |\n",
    "| `director` | Director of the show |\n",
    "| `cast` | Cast of the show |\n",
    "| `country` | Country of origin |\n",
    "| `date_added` | Date added to Netflix |\n",
    "| `release_year` | Year of Netflix release |\n",
    "| `duration` | Duration of the show in minutes |\n",
    "| `description` | Description of the show |\n",
    "| `genre` | Show genre |"
   ]
  },
  {
   "cell_type": "code",
   "execution_count": 50,
   "id": "320a3abc-8a36-4b2b-baaf-473325363a4d",
   "metadata": {
    "executionCancelledAt": null,
    "executionTime": 52,
    "lastExecutedAt": 1740922917266,
    "lastExecutedByKernel": "e5a86b95-fe42-43ee-ba16-9316734e269a",
    "lastScheduledRunId": null,
    "lastSuccessfullyExecutedCode": "# Importing pandas and matplotlib\nimport pandas as pd\nimport matplotlib.pyplot as plt\n\n# Read in the Netflix CSV as a DataFrame\nnetflix_df = pd.read_csv(\"netflix_data.csv\")"
   },
   "outputs": [],
   "source": [
    "# Importing pandas and matplotlib\n",
    "import pandas as pd\n",
    "import matplotlib.pyplot as plt\n",
    "\n",
    "# Read in the Netflix CSV as a DataFrame\n",
    "netflix_df = pd.read_csv(\"netflix_data.csv\")"
   ]
  },
  {
   "cell_type": "code",
   "execution_count": 51,
   "id": "72658473-114f-49eb-bd4e-cc03c710834a",
   "metadata": {
    "executionCancelledAt": null,
    "executionTime": 52,
    "lastExecutedAt": 1740922917318,
    "lastExecutedByKernel": "e5a86b95-fe42-43ee-ba16-9316734e269a",
    "lastScheduledRunId": null,
    "lastSuccessfullyExecutedCode": "# Start coding here! Use as many cells as you like\n\n# Movies released from 1990 to 1999\nmovies_within = netflix_df[((netflix_df['release_year'] >= 1990) &  (netflix_df['release_year'] < 2000)) & (netflix_df['type'] == 'Movie')]\n\n# Saving the movies duration as time integer\nmovies_duration_as_int['duration'] = movies_within['duration'].astype(int)\n\n#Finding the most frequent movie duration \nduration = movies_duration_as_int['duration'].mode()[0]\n\n\n# Getting the action movies \naction_movies = movies_within[(movies_within['genre'] == 'Action')]\n\n# Finding actions movies that their duration is less than 90 minutes \nshort_movie_count = action_movies[action_movies['duration'] < 90].shape[0]\n\n# printing out the two results \nprint('The most frequent movie duration is ' + str(duration) + ' minutes')\nprint('The number of short action movies is ' + str(short_movie_count) + ' minutes')",
    "outputsMetadata": {
     "0": {
      "height": 59,
      "type": "stream"
     }
    }
   },
   "outputs": [
    {
     "name": "stdout",
     "output_type": "stream",
     "text": [
      "The most frequent movie duration is 94 minutes\n",
      "The number of short action movies is 7 minutes\n"
     ]
    }
   ],
   "source": [
    "\n",
    "# Movies released from 1990 to 1999\n",
    "movies_within = netflix_df[((netflix_df['release_year'] >= 1990) &  (netflix_df['release_year'] < 2000)) & (netflix_df['type'] == 'Movie')]\n",
    "\n",
    "# Saving the movies duration as time integer\n",
    "movies_duration_as_int['duration'] = movies_within['duration'].astype(int)\n",
    "\n",
    "#Finding the most frequent movie duration \n",
    "duration = movies_duration_as_int['duration'].mode()[0]\n",
    "\n",
    "\n",
    "# Getting the action movies \n",
    "action_movies = movies_within[(movies_within['genre'] == 'Action')]\n",
    "\n",
    "# Finding actions movies that their duration is less than 90 minutes \n",
    "short_movie_count = action_movies[action_movies['duration'] < 90].shape[0]\n",
    "\n",
    "# printing out the two results \n",
    "print('The most frequent movie duration is ' + str(duration) + ' minutes')\n",
    "print('The number of short action movies is ' + str(short_movie_count) + ' minutes')"
   ]
  }
 ],
 "metadata": {
  "colab": {
   "name": "Welcome to DataCamp Workspaces.ipynb",
   "provenance": []
  },
  "editor": "DataLab",
  "kernelspec": {
   "display_name": "Python 3 (ipykernel)",
   "language": "python",
   "name": "python3"
  },
  "language_info": {
   "codemirror_mode": {
    "name": "ipython",
    "version": 3
   },
   "file_extension": ".py",
   "mimetype": "text/x-python",
   "name": "python",
   "nbconvert_exporter": "python",
   "pygments_lexer": "ipython3",
   "version": "3.12.4"
  }
 },
 "nbformat": 4,
 "nbformat_minor": 5
}
