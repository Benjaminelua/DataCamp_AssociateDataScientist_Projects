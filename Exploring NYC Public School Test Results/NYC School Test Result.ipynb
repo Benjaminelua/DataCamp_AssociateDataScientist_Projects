{
 "cells": [
  {
   "cell_type": "markdown",
   "id": "fe0ea788-58dd-459e-8976-fafdb5c05c6d",
   "metadata": {},
   "source": [
    "![New York City schoolbus](schoolbus.jpg)\n",
    "\n",
    "Photo by [Jannis Lucas](https://unsplash.com/@jannis_lucas) on [Unsplash](https://unsplash.com).\n",
    "<br>\n",
    "\n",
    "Every year, American high school students take SATs, which are standardized tests intended to measure literacy, numeracy, and writing skills. There are three sections - reading, math, and writing, each with a **maximum score of 800 points**. These tests are extremely important for students and colleges, as they play a pivotal role in the admissions process.\n",
    "\n",
    "Analyzing the performance of schools is important for a variety of stakeholders, including policy and education professionals, researchers, government, and even parents considering which school their children should attend. \n",
    "\n",
    "You have been provided with a dataset called `schools.csv`, which is previewed below.\n",
    "\n",
    "You have been tasked with answering three key questions about New York City (NYC) public school SAT performance."
   ]
  },
  {
   "cell_type": "code",
   "execution_count": 3,
   "id": "d0eb4f16-5a99-460d-a5ba-706b7ef0bbe7",
   "metadata": {
    "executionCancelledAt": null,
    "executionTime": 55,
    "id": "bA5ajAmk7XH6",
    "lastExecutedAt": 1741635540066,
    "lastExecutedByKernel": "f12638ff-834e-446a-ab85-44a38a2a5dc0",
    "lastScheduledRunId": null,
    "lastSuccessfullyExecutedCode": "# Re-run this cell \nimport pandas as pd\n\n# Read in the data\nschools = pd.read_csv(\"schools.csv\")\n\n# Preview the data\nschools.head()\n\n# Start coding here...\n# Threshold for maths best score\nBest_maths_score = 800 *0.8 \n\n# filtering the schools with  the best maths score \nBest_schools_in_maths = schools[schools[\"average_math\"] >= Best_maths_score]\nprint(Best_schools_in_maths)\n\n#saving the result into pandas dataframe and sorting by average math\nbest_math_schools = Best_schools_in_maths[['school_name', 'average_math']].sort_values(by = 'average_math', ascending = False)\nprint(best_math_schools)\n\n\n#Determing the top 10 performing schools based on the combine sat score\nschools[\"total_SAT\"] = schools['average_math'] + schools[\"average_reading\"] + schools[\"average_writing\"]\n\n# sorting it by total SAT\ntop_10_schools = schools.sort_values('total_SAT', ascending = False).head(10)[[\"school_name\", \"total_SAT\"]]\nprint(top_10_schools)\n\n\n#Gething the borough stats and roundong the the results to 2 decimal place \nbrorough_stats = schools.groupby(\"borough\")['total_SAT'].agg(num_schools = \"count\", average_SAT = \"mean\", std_SAT = \"std\").round(2)\n\n#Finding the borough with the largest standard deviation\nlargest_std_dev = brorough_stats.sort_values(by ='std_SAT', ascending = False).head(1).reset_index()\n\n#printing the results \nprint(largest_std_dev)",
    "outputsMetadata": {
     "0": {
      "height": 490,
      "type": "stream"
     }
    }
   },
   "outputs": [
    {
     "name": "stdout",
     "output_type": "stream",
     "text": [
      "                                           school_name  average_math\n",
      "88                              Stuyvesant High School           754\n",
      "170                       Bronx High School of Science           714\n",
      "93                 Staten Island Technical High School           711\n",
      "365  Queens High School for the Sciences at York Co...           701\n",
      "68   High School for Mathematics, Science, and Engi...           683\n",
      "280                     Brooklyn Technical High School           682\n",
      "333                        Townsend Harris High School           680\n",
      "174  High School of American Studies at Lehman College           669\n",
      "0    New Explorations into Science, Technology and ...           657\n",
      "45                       Eleanor Roosevelt High School           641\n",
      "                                           school_name  total_SAT\n",
      "88                              Stuyvesant High School       2144\n",
      "170                       Bronx High School of Science       2041\n",
      "93                 Staten Island Technical High School       2041\n",
      "174  High School of American Studies at Lehman College       2013\n",
      "333                        Townsend Harris High School       1981\n",
      "365  Queens High School for the Sciences at York Co...       1947\n",
      "5                       Bard High School Early College       1914\n",
      "280                     Brooklyn Technical High School       1896\n",
      "45                       Eleanor Roosevelt High School       1889\n",
      "68   High School for Mathematics, Science, and Engi...       1889\n",
      "     borough  num_schools  average_SAT  std_SAT\n",
      "0  Manhattan           89      1340.13   230.29\n"
     ]
    }
   ],
   "source": [
    "# Import pandas \n",
    "import pandas as pd\n",
    "\n",
    "# Read in the data\n",
    "schools = pd.read_csv(\"schools.csv\")\n",
    "\n",
    "# Preview the data\n",
    "schools.head()\n",
    "\n",
    "# Threshold for maths best score\n",
    "Best_maths_score = 800 *0.8 \n",
    "\n",
    "# filtering the schools with  the best maths score \n",
    "Best_schools_in_maths = schools[schools[\"average_math\"] >= Best_maths_score]\n",
    "#print(Best_schools_in_maths)\n",
    "\n",
    "#saving the result into pandas dataframe and sorting by average math\n",
    "best_math_schools = Best_schools_in_maths[['school_name', 'average_math']].sort_values(by = 'average_math', ascending = False)\n",
    "print(best_math_schools)\n",
    "\n",
    "\n",
    "#Determing the top 10 performing schools based on the combine sat score\n",
    "schools[\"total_SAT\"] = schools['average_math'] + schools[\"average_reading\"] + schools[\"average_writing\"]\n",
    "\n",
    "# sorting it by total SAT\n",
    "top_10_schools = schools.sort_values('total_SAT', ascending = False).head(10)[[\"school_name\", \"total_SAT\"]]\n",
    "print(top_10_schools)\n",
    "\n",
    "\n",
    "#Gething the borough stats and roundong the the results to 2 decimal place \n",
    "brorough_stats = schools.groupby(\"borough\")['total_SAT'].agg(num_schools = \"count\", average_SAT = \"mean\", std_SAT = \"std\").round(2)\n",
    "\n",
    "#Finding the borough with the largest standard deviation\n",
    "largest_std_dev = brorough_stats.sort_values(by ='std_SAT', ascending = False).head(1).reset_index()\n",
    "\n",
    "#printing the results \n",
    "print(largest_std_dev)"
   ]
  },
  {
   "cell_type": "code",
   "execution_count": null,
   "id": "ab9141e2-e8e7-4583-9504-dac1ad979c9a",
   "metadata": {},
   "outputs": [],
   "source": []
  }
 ],
 "metadata": {
  "editor": "DataLab",
  "kernelspec": {
   "display_name": "Python 3 (ipykernel)",
   "language": "python",
   "name": "python3"
  },
  "language_info": {
   "codemirror_mode": {
    "name": "ipython",
    "version": 3
   },
   "file_extension": ".py",
   "mimetype": "text/x-python",
   "name": "python",
   "nbconvert_exporter": "python",
   "pygments_lexer": "ipython3",
   "version": "3.12.4"
  }
 },
 "nbformat": 4,
 "nbformat_minor": 5
}
