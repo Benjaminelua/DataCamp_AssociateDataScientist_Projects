{
 "cells": [
  {
   "cell_type": "markdown",
   "id": "3ed0edb2-696b-49ab-9db0-681defcce695",
   "metadata": {},
   "source": [
    "![A soccer pitch for an international match.](soccer-pitch.jpg)\n",
    "\n",
    "You're working as a sports journalist at a major online sports media company, specializing in soccer analysis and reporting. You've been watching both men's and women's international soccer matches for a number of years, and your gut instinct tells you that more goals are scored in women's international football matches than men's. This would make an interesting investigative article that your subscribers are bound to love, but you'll need to perform a valid statistical hypothesis test to be sure!\n",
    "\n",
    "While scoping this project, you acknowledge that the sport has changed a lot over the years, and performances likely vary a lot depending on the tournament, so you decide to limit the data used in the analysis to only official `FIFA World Cup` matches (not including qualifiers) since `2002-01-01`.\n",
    "\n",
    "You create two datasets containing the results of every official men's and women's international football match since the 19th century, which you scraped from a reliable online source. This data is stored in two CSV files: `women_results.csv` and `men_results.csv`.\n",
    "\n",
    "The question you are trying to determine the answer to is:\n",
    "\n",
    "> Are more goals scored in women's international soccer matches than men's?\n",
    "\n",
    "You assume a **10% significance level**, and use the following null and alternative hypotheses:\n",
    "\n",
    "$H_0$ : The mean number of goals scored in women's international soccer matches is the same as men's.\n",
    "\n",
    "$H_A$ : The mean number of goals scored in women's international soccer matches is greater than men's."
   ]
  },
  {
   "cell_type": "code",
   "execution_count": 42,
   "id": "84a3c4c8-534b-4d1a-9919-17e05208b2ca",
   "metadata": {
    "executionCancelledAt": null,
    "executionTime": 98,
    "lastExecutedAt": 1749333162667,
    "lastExecutedByKernel": "78be9a45-dd25-409d-8c51-c6fdbf79b386",
    "lastScheduledRunId": null,
    "lastSuccessfullyExecutedCode": "# Importing the Libraries\nimport pandas as pd\nfrom scipy.stats import mannwhitneyu\n\n# Loading the datasets\nwomen_df = pd.read_csv('women_results.csv')\nmen_df = pd.read_csv('men_results.csv')\n\n# Checking the top 10 rows of the datasets\nprint(women_df.head(10))\nprint(men_df.head(10))\n\n# Filtering the dataset to only official FIFA World Cup matches from 2002-01-01\nwomen_wc = women_df[(women_df['tournament'] == 'FIFA World Cup') & (women_df['date'] >= '2002-01-01')]\nmen_wc = men_df[(men_df['tournament'] == 'FIFA World Cup') & (men_df['date'] >= '2002-01-01')]\n\n# Checking the top rows of the filtered datasets\nprint(women_wc.head())\nprint(men_wc.head())\n\n# Calculate total goals per match \nwomen_goals = women_wc['home_score'] + women_wc['away_score']\nmen_goals = men_wc['home_score'] + men_wc['away_score']\n\n# Perform one-side independent test \nu_stat, p_val = mannwhitneyu(women_goals, men_goals, alternative = 'greater')\n\n# Interpreting the results\nalpha = 0.10\nresults = 'reject' if p_val < alpha else 'fail to reject'\n\n# Saving the result in a dictionary\nresult_dict = {\n    \"p_val\" : p_val,\n    \"result\" : results\n }\nprint(result_dict)",
    "outputsMetadata": {
     "0": {
      "height": 474,
      "type": "stream"
     },
     "1": {
      "height": 38,
      "tableState": {
       "customFilter": {
        "const": {
         "type": "boolean",
         "valid": true,
         "value": true
        },
        "id": "63d7cd12-11dd-4b80-a880-917bed52b9d0",
        "nodeType": "const"
       }
      },
      "type": "dataFrame"
     }
    }
   },
   "outputs": [
    {
     "name": "stdout",
     "output_type": "stream",
     "text": [
      "   Unnamed: 0        date  ... away_score        tournament\n",
      "0           0  1969-11-01  ...          0              Euro\n",
      "1           1  1969-11-01  ...          3              Euro\n",
      "2           2  1969-11-02  ...          0              Euro\n",
      "3           3  1969-11-02  ...          1              Euro\n",
      "4           4  1975-08-25  ...          2  AFC Championship\n",
      "5           5  1975-08-25  ...          2  AFC Championship\n",
      "6           6  1975-08-27  ...          0  AFC Championship\n",
      "7           7  1975-08-27  ...          0  AFC Championship\n",
      "8           8  1975-08-29  ...          0  AFC Championship\n",
      "9           9  1975-08-29  ...          2  AFC Championship\n",
      "\n",
      "[10 rows x 7 columns]\n",
      "   Unnamed: 0        date home_team  ... home_score  away_score  tournament\n",
      "0           0  1872-11-30  Scotland  ...          0           0    Friendly\n",
      "1           1  1873-03-08   England  ...          4           2    Friendly\n",
      "2           2  1874-03-07  Scotland  ...          2           1    Friendly\n",
      "3           3  1875-03-06   England  ...          2           2    Friendly\n",
      "4           4  1876-03-04  Scotland  ...          3           0    Friendly\n",
      "5           5  1876-03-25  Scotland  ...          4           0    Friendly\n",
      "6           6  1877-03-03   England  ...          1           3    Friendly\n",
      "7           7  1877-03-05     Wales  ...          0           2    Friendly\n",
      "8           8  1878-03-02  Scotland  ...          7           2    Friendly\n",
      "9           9  1878-03-23  Scotland  ...          9           0    Friendly\n",
      "\n",
      "[10 rows x 7 columns]\n",
      "      Unnamed: 0        date  ... away_score      tournament\n",
      "1600        1600  2003-09-20  ...          3  FIFA World Cup\n",
      "1601        1601  2003-09-20  ...          0  FIFA World Cup\n",
      "1602        1602  2003-09-20  ...          1  FIFA World Cup\n",
      "1603        1603  2003-09-20  ...          0  FIFA World Cup\n",
      "1604        1604  2003-09-21  ...          1  FIFA World Cup\n",
      "\n",
      "[5 rows x 7 columns]\n",
      "       Unnamed: 0        date  ... away_score      tournament\n",
      "25164       25164  2002-05-31  ...          1  FIFA World Cup\n",
      "25165       25165  2002-06-01  ...          0  FIFA World Cup\n",
      "25166       25166  2002-06-01  ...          1  FIFA World Cup\n",
      "25167       25167  2002-06-01  ...          2  FIFA World Cup\n",
      "25168       25168  2002-06-02  ...          0  FIFA World Cup\n",
      "\n",
      "[5 rows x 7 columns]\n",
      "{'p_val': 0.005106609825443641, 'result': 'reject'}\n"
     ]
    }
   ],
   "source": [
    "# Importing the Libraries\n",
    "import pandas as pd\n",
    "from scipy.stats import mannwhitneyu\n",
    "\n",
    "# Loading the datasets\n",
    "women_df = pd.read_csv('women_results.csv')\n",
    "men_df = pd.read_csv('men_results.csv')\n",
    "\n",
    "# Checking the top 7 rows of the datasets\n",
    "print(women_df.head(10))\n",
    "print(men_df.head(10))\n",
    "\n",
    "# Filtering the dataset to only official FIFA World Cup matches from 2002-01-01\n",
    "women_wc = women_df[(women_df['tournament'] == 'FIFA World Cup') & (women_df['date'] >= '2002-01-01')]\n",
    "men_wc = men_df[(men_df['tournament'] == 'FIFA World Cup') & (men_df['date'] >= '2002-01-01')]\n",
    "\n",
    "# Checking the top rows of the filtered datasets\n",
    "print(women_wc.head())\n",
    "print(men_wc.head())\n",
    "\n",
    "# Calculate total goals per match \n",
    "women_goals = women_wc['home_score'] + women_wc['away_score']\n",
    "men_goals = men_wc['home_score'] + men_wc['away_score']\n",
    "\n",
    "# Perform one-side independent test \n",
    "u_stat, p_val = mannwhitneyu(women_goals, men_goals, alternative = 'greater')\n",
    "\n",
    "# Interpreting the results\n",
    "alpha = 0.10\n",
    "results = 'reject' if p_val < alpha else 'fail to reject'\n",
    "\n",
    "# Saving the result in a dictionary\n",
    "result_dict = {\n",
    "    \"p_val\" : p_val,\n",
    "    \"result\" : results\n",
    " }\n",
    "print(result_dict)"
   ]
  }
 ],
 "metadata": {
  "colab": {
   "name": "Welcome to DataCamp Workspaces.ipynb",
   "provenance": []
  },
  "kernelspec": {
   "display_name": "Python 3 (ipykernel)",
   "language": "python",
   "name": "python3"
  },
  "language_info": {
   "codemirror_mode": {
    "name": "ipython",
    "version": 3
   },
   "file_extension": ".py",
   "mimetype": "text/x-python",
   "name": "python",
   "nbconvert_exporter": "python",
   "pygments_lexer": "ipython3",
   "version": "3.12.4"
  }
 },
 "nbformat": 4,
 "nbformat_minor": 5
}
