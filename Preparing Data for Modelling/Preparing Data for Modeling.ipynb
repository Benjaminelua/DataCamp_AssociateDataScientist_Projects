{
 "cells": [
  {
   "cell_type": "markdown",
   "id": "a09e6d54-bf3f-4632-b299-bd49d5c80d5f",
   "metadata": {},
   "source": [
    "![Two data scientists working on a dashboard.](hr-image-small.png)\n",
    "\n",
    "A common problem when creating models to generate business value from data is that the datasets can be so large that it can take days for the model to generate predictions. Ensuring that your dataset is stored as efficiently as possible is crucial for allowing these models to run on a more reasonable timescale without having to reduce the size of the dataset.\n",
    "\n",
    "You've been hired by a major online data science training provider called *Training Data Ltd.* to clean up one of their largest customer datasets. This dataset will eventually be used to predict whether their students are looking for a new job or not, information that they will then use to direct them to prospective recruiters.\n",
    "\n",
    "You've been given access to `customer_train.csv`, which is a subset of their entire customer dataset, so you can create a proof-of-concept of a much more efficient storage solution. The dataset contains anonymized student information, and whether they were looking for a new job or not during training:\n",
    "\n",
    "| Column                   | Description                                                                      |\n",
    "|------------------------- |--------------------------------------------------------------------------------- |\n",
    "| `student_id`             | A unique ID for each student.                                                    |\n",
    "| `city`                   | A code for the city the student lives in.                                        |\n",
    "| `city_development_index` | A scaled development index for the city.                                         |\n",
    "| `gender`                 | The student's gender.                                                            |\n",
    "| `relevant_experience`    | An indicator of the student's work relevant experience.                          |\n",
    "| `enrolled_university`    | The type of university course enrolled in (if any).                              |\n",
    "| `education_level`        | The student's education level.                                                   |\n",
    "| `major_discipline`       | The educational discipline of the student.                                       |\n",
    "| `experience`             | The student's total work experience (in years).                                  |\n",
    "| `company_size`           | The number of employees at the student's current employer.                       |\n",
    "| `company_type`           | The type of company employing the student.                                       |\n",
    "| `last_new_job`           | The number of years between the student's current and previous jobs.             |\n",
    "| `training_hours`         | The number of hours of training completed.                                       |\n",
    "| `job_change`             | An indicator of whether the student is looking for a new job (`1`) or not (`0`). |"
   ]
  },
  {
   "cell_type": "code",
   "execution_count": 33,
   "id": "eda9c1b2-4e9a-41ac-8da6-d4c98775f986",
   "metadata": {
    "executionCancelledAt": null,
    "executionTime": 80,
    "lastExecutedAt": 1745328805288,
    "lastExecutedByKernel": "ae1c2ada-a14c-4fd8-9082-60ee24f56447",
    "lastScheduledRunId": null,
    "lastSuccessfullyExecutedCode": "# Import necessary libraries\nimport pandas as pd\nimport numpy as np\nfrom pandas.api.types import CategoricalDtype\n# Load the dataset\nds_jobs = pd.read_csv(\"customer_train.csv\")\n\n# View the dataset\nds_jobs.head()\n",
    "outputsMetadata": {
     "0": {
      "height": 501,
      "tableState": {},
      "type": "dataFrame"
     }
    }
   },
   "outputs": [
    {
     "data": {
      "application/com.datacamp.data-table.v2+json": {
       "table": {
        "data": {
         "city": [
          "city_103",
          "city_40",
          "city_21",
          "city_115",
          "city_162"
         ],
         "city_development_index": [
          0.92,
          0.776,
          0.624,
          0.789,
          0.767
         ],
         "company_size": [
          null,
          "50-99",
          null,
          null,
          "50-99"
         ],
         "company_type": [
          null,
          "Pvt Ltd",
          null,
          "Pvt Ltd",
          "Funded Startup"
         ],
         "education_level": [
          "Graduate",
          "Graduate",
          "Graduate",
          "Graduate",
          "Masters"
         ],
         "enrolled_university": [
          "no_enrollment",
          "no_enrollment",
          "Full time course",
          null,
          "no_enrollment"
         ],
         "experience": [
          ">20",
          "15",
          "5",
          "<1",
          ">20"
         ],
         "gender": [
          "Male",
          "Male",
          null,
          null,
          "Male"
         ],
         "index": [
          0,
          1,
          2,
          3,
          4
         ],
         "job_change": [
          1,
          0,
          0,
          1,
          0
         ],
         "last_new_job": [
          "1",
          ">4",
          "never",
          "never",
          "4"
         ],
         "major_discipline": [
          "STEM",
          "STEM",
          "STEM",
          "Business Degree",
          "STEM"
         ],
         "relevant_experience": [
          "Has relevant experience",
          "No relevant experience",
          "No relevant experience",
          "No relevant experience",
          "Has relevant experience"
         ],
         "student_id": [
          8949,
          29725,
          11561,
          33241,
          666
         ],
         "training_hours": [
          36,
          47,
          83,
          52,
          8
         ]
        },
        "schema": {
         "fields": [
          {
           "name": "index",
           "type": "integer"
          },
          {
           "name": "student_id",
           "type": "integer"
          },
          {
           "name": "city",
           "type": "string"
          },
          {
           "name": "city_development_index",
           "type": "number"
          },
          {
           "name": "gender",
           "type": "string"
          },
          {
           "name": "relevant_experience",
           "type": "string"
          },
          {
           "name": "enrolled_university",
           "type": "string"
          },
          {
           "name": "education_level",
           "type": "string"
          },
          {
           "name": "major_discipline",
           "type": "string"
          },
          {
           "name": "experience",
           "type": "string"
          },
          {
           "name": "company_size",
           "type": "string"
          },
          {
           "name": "company_type",
           "type": "string"
          },
          {
           "name": "last_new_job",
           "type": "string"
          },
          {
           "name": "training_hours",
           "type": "integer"
          },
          {
           "name": "job_change",
           "type": "number"
          }
         ],
         "pandas_version": "1.4.0",
         "primaryKey": [
          "index"
         ]
        }
       },
       "total_rows": 5,
       "truncation_type": null
      },
      "text/html": [
       "<div>\n",
       "<style scoped>\n",
       "    .dataframe tbody tr th:only-of-type {\n",
       "        vertical-align: middle;\n",
       "    }\n",
       "\n",
       "    .dataframe tbody tr th {\n",
       "        vertical-align: top;\n",
       "    }\n",
       "\n",
       "    .dataframe thead th {\n",
       "        text-align: right;\n",
       "    }\n",
       "</style>\n",
       "<table border=\"1\" class=\"dataframe\">\n",
       "  <thead>\n",
       "    <tr style=\"text-align: right;\">\n",
       "      <th></th>\n",
       "      <th>student_id</th>\n",
       "      <th>city</th>\n",
       "      <th>city_development_index</th>\n",
       "      <th>gender</th>\n",
       "      <th>relevant_experience</th>\n",
       "      <th>enrolled_university</th>\n",
       "      <th>education_level</th>\n",
       "      <th>major_discipline</th>\n",
       "      <th>experience</th>\n",
       "      <th>company_size</th>\n",
       "      <th>company_type</th>\n",
       "      <th>last_new_job</th>\n",
       "      <th>training_hours</th>\n",
       "      <th>job_change</th>\n",
       "    </tr>\n",
       "  </thead>\n",
       "  <tbody>\n",
       "    <tr>\n",
       "      <th>0</th>\n",
       "      <td>8949</td>\n",
       "      <td>city_103</td>\n",
       "      <td>0.920</td>\n",
       "      <td>Male</td>\n",
       "      <td>Has relevant experience</td>\n",
       "      <td>no_enrollment</td>\n",
       "      <td>Graduate</td>\n",
       "      <td>STEM</td>\n",
       "      <td>&gt;20</td>\n",
       "      <td>NaN</td>\n",
       "      <td>NaN</td>\n",
       "      <td>1</td>\n",
       "      <td>36</td>\n",
       "      <td>1.0</td>\n",
       "    </tr>\n",
       "    <tr>\n",
       "      <th>1</th>\n",
       "      <td>29725</td>\n",
       "      <td>city_40</td>\n",
       "      <td>0.776</td>\n",
       "      <td>Male</td>\n",
       "      <td>No relevant experience</td>\n",
       "      <td>no_enrollment</td>\n",
       "      <td>Graduate</td>\n",
       "      <td>STEM</td>\n",
       "      <td>15</td>\n",
       "      <td>50-99</td>\n",
       "      <td>Pvt Ltd</td>\n",
       "      <td>&gt;4</td>\n",
       "      <td>47</td>\n",
       "      <td>0.0</td>\n",
       "    </tr>\n",
       "    <tr>\n",
       "      <th>2</th>\n",
       "      <td>11561</td>\n",
       "      <td>city_21</td>\n",
       "      <td>0.624</td>\n",
       "      <td>NaN</td>\n",
       "      <td>No relevant experience</td>\n",
       "      <td>Full time course</td>\n",
       "      <td>Graduate</td>\n",
       "      <td>STEM</td>\n",
       "      <td>5</td>\n",
       "      <td>NaN</td>\n",
       "      <td>NaN</td>\n",
       "      <td>never</td>\n",
       "      <td>83</td>\n",
       "      <td>0.0</td>\n",
       "    </tr>\n",
       "    <tr>\n",
       "      <th>3</th>\n",
       "      <td>33241</td>\n",
       "      <td>city_115</td>\n",
       "      <td>0.789</td>\n",
       "      <td>NaN</td>\n",
       "      <td>No relevant experience</td>\n",
       "      <td>NaN</td>\n",
       "      <td>Graduate</td>\n",
       "      <td>Business Degree</td>\n",
       "      <td>&lt;1</td>\n",
       "      <td>NaN</td>\n",
       "      <td>Pvt Ltd</td>\n",
       "      <td>never</td>\n",
       "      <td>52</td>\n",
       "      <td>1.0</td>\n",
       "    </tr>\n",
       "    <tr>\n",
       "      <th>4</th>\n",
       "      <td>666</td>\n",
       "      <td>city_162</td>\n",
       "      <td>0.767</td>\n",
       "      <td>Male</td>\n",
       "      <td>Has relevant experience</td>\n",
       "      <td>no_enrollment</td>\n",
       "      <td>Masters</td>\n",
       "      <td>STEM</td>\n",
       "      <td>&gt;20</td>\n",
       "      <td>50-99</td>\n",
       "      <td>Funded Startup</td>\n",
       "      <td>4</td>\n",
       "      <td>8</td>\n",
       "      <td>0.0</td>\n",
       "    </tr>\n",
       "  </tbody>\n",
       "</table>\n",
       "</div>"
      ],
      "text/plain": [
       "   student_id      city  ...  training_hours job_change\n",
       "0        8949  city_103  ...              36        1.0\n",
       "1       29725   city_40  ...              47        0.0\n",
       "2       11561   city_21  ...              83        0.0\n",
       "3       33241  city_115  ...              52        1.0\n",
       "4         666  city_162  ...               8        0.0\n",
       "\n",
       "[5 rows x 14 columns]"
      ]
     },
     "execution_count": 33,
     "metadata": {
      "application/com.datacamp.data-table.v2+json": {
       "status": "success"
      }
     },
     "output_type": "execute_result"
    }
   ],
   "source": [
    "# Import necessary libraries\n",
    "import pandas as pd\n",
    "import numpy as np\n",
    "from pandas.api.types import CategoricalDtype\n",
    "# Load the dataset\n",
    "ds_jobs = pd.read_csv(\"customer_train.csv\")\n",
    "\n",
    "# View the dataset\n",
    "ds_jobs.head()\n"
   ]
  },
  {
   "cell_type": "code",
   "execution_count": 34,
   "id": "13757e62-aca2-48f4-b569-a838af11bdd5",
   "metadata": {
    "executionCancelledAt": null,
    "executionTime": 61,
    "lastExecutedAt": 1745328805350,
    "lastExecutedByKernel": "ae1c2ada-a14c-4fd8-9082-60ee24f56447",
    "lastScheduledRunId": null,
    "lastSuccessfullyExecutedCode": "# Create a copy of ds_jobs for transforming\nds_jobs_transformed = ds_jobs.copy()\n\n# Start coding here. Use as many cells as you like!\n\n#Ordering by year as string\nexperience_order = [str(i) for i in range(1, 21)] + [\">21\"]\nexperience_dtype = CategoricalDtype(categories=experience_order, ordered=True)\n\n#Ordering by company size \ncompany_size_order = [\n    '<10', '10/49', '50-99', '100-500', '500-999',\n    '1000-4999', '5000-9999', '10000+'\n]\ncompany_size_dtype = CategoricalDtype(categories=company_size_order, ordered=True)\n\n#Ordering by enrolled university\nenrolled_uni_order = ['no_enrollment', 'Part time course', 'Full time course']\nenrolled_uni_dtype = CategoricalDtype(categories=enrolled_uni_order, ordered=True)\n\n#Ordering the education level\neducation_level_order = ['Primary School', 'High School', 'Graduate', 'Masters', 'PhD']\neducation_level_dtype = CategoricalDtype(categories=education_level_order, ordered=True)\n\n#Ordering the last new job \nlast_new_job_order = ['never', '1', '2', '3', '4', '>4']\nlast_new_job_dtype = CategoricalDtype(categories=last_new_job_order, ordered=True)\n\n#FILTERING THE DATASET\n#Defining the reqyured experience and company size condition\nvalid_experience = [str(i) for i in range(10, 21)] + ['>20']\nlarge_companies = ['1000-4999', '5000-9999', '10000+']\n\n#filtering out the dataset based on the conditions \nds_jobs_transformed = ds_jobs_transformed[(ds_jobs_transformed[\"experience\"].isin(valid_experience)) & ds_jobs_transformed[\"company_size\"].isin(large_companies)]\n\n#CONERTING THE DATA TYPES\n#Boolean data types\nds_jobs_transformed['gender'] = ds_jobs_transformed['gender'].map({'Male': True, 'Female': False})\n\nds_jobs_transformed['relevant_experience'] = ds_jobs_transformed['relevant_experience'].map({\n    'Has relevent experience': True,\n    'No relevent experience': False\n}).astype(\"bool\")\n\nds_jobs_transformed['job_change'] = ds_jobs_transformed['job_change'].astype(bool)\n\n#Integers to int32\nds_jobs_transformed['training_hours'] = ds_jobs_transformed['training_hours'].astype(np.int32)\nds_jobs_transformed['student_id'] = ds_jobs_transformed['student_id'].astype(np.int32)\n\nds_jobs_transformed['city_development_index'] = ds_jobs_transformed['city_development_index'].astype(np.float16)\n\n#Converting to Norminal category \nnominal_cols = ['city', 'company_type', 'major_discipline', 'gender']\nfor col in nominal_cols:\n    ds_jobs_transformed[col] = ds_jobs_transformed[col].astype('category')\n\n#ORDERING THE CATEGORICAL COLUMNS\nds_jobs_transformed['experience'] = ds_jobs_transformed['experience'].astype(experience_dtype)\nds_jobs_transformed['company_size'] = ds_jobs_transformed['company_size'].astype(company_size_dtype)\nds_jobs_transformed['enrolled_university'] = ds_jobs_transformed['enrolled_university'].astype(enrolled_uni_dtype)\nds_jobs_transformed['education_level'] = ds_jobs_transformed['education_level'].astype(education_level_dtype)\nds_jobs_transformed['last_new_job'] = ds_jobs_transformed['last_new_job'].astype(last_new_job_dtype)\n\nds_jobs_transformed.info()",
    "outputsMetadata": {
     "0": {
      "height": 458,
      "type": "stream"
     },
     "1": {
      "height": 550,
      "tableState": {
       "customFilter": {
        "const": {
         "type": "boolean",
         "valid": true,
         "value": true
        },
        "id": "427db5ea-2efc-44cb-8027-4fdaa09ed16b",
        "nodeType": "const"
       }
      },
      "type": "dataFrame"
     }
    }
   },
   "outputs": [
    {
     "name": "stdout",
     "output_type": "stream",
     "text": [
      "<class 'pandas.core.frame.DataFrame'>\n",
      "Int64Index: 2201 entries, 9 to 19143\n",
      "Data columns (total 14 columns):\n",
      " #   Column                  Non-Null Count  Dtype   \n",
      "---  ------                  --------------  -----   \n",
      " 0   student_id              2201 non-null   int32   \n",
      " 1   city                    2201 non-null   category\n",
      " 2   city_development_index  2201 non-null   float16 \n",
      " 3   gender                  1799 non-null   category\n",
      " 4   relevant_experience     2201 non-null   bool    \n",
      " 5   enrolled_university     2185 non-null   category\n",
      " 6   education_level         2069 non-null   category\n",
      " 7   major_discipline        2097 non-null   category\n",
      " 8   experience              1342 non-null   category\n",
      " 9   company_size            2201 non-null   category\n",
      " 10  company_type            2144 non-null   category\n",
      " 11  last_new_job            2184 non-null   category\n",
      " 12  training_hours          2201 non-null   int32   \n",
      " 13  job_change              2201 non-null   bool    \n",
      "dtypes: bool(2), category(9), float16(1), int32(2)\n",
      "memory usage: 67.1 KB\n"
     ]
    }
   ],
   "source": [
    "# Create a copy of ds_jobs for transforming\n",
    "ds_jobs_transformed = ds_jobs.copy()\n",
    "\n",
    "#Ordering by year as string\n",
    "experience_order = [str(i) for i in range(1, 21)] + [\">21\"]\n",
    "experience_dtype = CategoricalDtype(categories=experience_order, ordered=True)\n",
    "\n",
    "#Ordering by company size \n",
    "company_size_order = [\n",
    "    '<10', '10/49', '50-99', '100-500', '500-999',\n",
    "    '1000-4999', '5000-9999', '10000+'\n",
    "]\n",
    "company_size_dtype = CategoricalDtype(categories=company_size_order, ordered=True)\n",
    "\n",
    "#Ordering by enrolled university\n",
    "enrolled_uni_order = ['no_enrollment', 'Part time course', 'Full time course']\n",
    "enrolled_uni_dtype = CategoricalDtype(categories=enrolled_uni_order, ordered=True)\n",
    "\n",
    "#Ordering the education level\n",
    "education_level_order = ['Primary School', 'High School', 'Graduate', 'Masters', 'PhD']\n",
    "education_level_dtype = CategoricalDtype(categories=education_level_order, ordered=True)\n",
    "\n",
    "#Ordering the last new job \n",
    "last_new_job_order = ['never', '1', '2', '3', '4', '>4']\n",
    "last_new_job_dtype = CategoricalDtype(categories=last_new_job_order, ordered=True)\n",
    "\n",
    "#FILTERING THE DATASET\n",
    "#Defining the reqyured experience and company size condition\n",
    "valid_experience = [str(i) for i in range(10, 21)] + ['>20']\n",
    "large_companies = ['1000-4999', '5000-9999', '10000+']\n",
    "\n",
    "#filtering out the dataset based on the conditions \n",
    "ds_jobs_transformed = ds_jobs_transformed[(ds_jobs_transformed[\"experience\"].isin(valid_experience)) & ds_jobs_transformed[\"company_size\"].isin(large_companies)]\n",
    "\n",
    "#COvERTING THE DATA TYPES\n",
    "#Boolean data types\n",
    "ds_jobs_transformed['gender'] = ds_jobs_transformed['gender'].map({'Male': True, 'Female': False})\n",
    "\n",
    "ds_jobs_transformed['relevant_experience'] = ds_jobs_transformed['relevant_experience'].map({\n",
    "    'Has relevent experience': True,\n",
    "    'No relevent experience': False\n",
    "}).astype(\"bool\")\n",
    "\n",
    "ds_jobs_transformed['job_change'] = ds_jobs_transformed['job_change'].astype(bool)\n",
    "\n",
    "#Integers to int32\n",
    "ds_jobs_transformed['training_hours'] = ds_jobs_transformed['training_hours'].astype(np.int32)\n",
    "ds_jobs_transformed['student_id'] = ds_jobs_transformed['student_id'].astype(np.int32)\n",
    "\n",
    "ds_jobs_transformed['city_development_index'] = ds_jobs_transformed['city_development_index'].astype(np.float16)\n",
    "\n",
    "#Converting to Norminal category \n",
    "nominal_cols = ['city', 'company_type', 'major_discipline', 'gender']\n",
    "for col in nominal_cols:\n",
    "    ds_jobs_transformed[col] = ds_jobs_transformed[col].astype('category')\n",
    "\n",
    "#CONVERTING THE CATEGORICAL COLUMNS\n",
    "ds_jobs_transformed['experience'] = ds_jobs_transformed['experience'].astype(experience_dtype)\n",
    "ds_jobs_transformed['company_size'] = ds_jobs_transformed['company_size'].astype(company_size_dtype)\n",
    "ds_jobs_transformed['enrolled_university'] = ds_jobs_transformed['enrolled_university'].astype(enrolled_uni_dtype)\n",
    "ds_jobs_transformed['education_level'] = ds_jobs_transformed['education_level'].astype(education_level_dtype)\n",
    "ds_jobs_transformed['last_new_job'] = ds_jobs_transformed['last_new_job'].astype(last_new_job_dtype)\n",
    "\n",
    "ds_jobs_transformed.info()"
   ]
  }
 ],
 "metadata": {
  "editor": "DataLab",
  "kernelspec": {
   "display_name": "Python 3 (ipykernel)",
   "language": "python",
   "name": "python3"
  },
  "language_info": {
   "codemirror_mode": {
    "name": "ipython",
    "version": 3
   },
   "file_extension": ".py",
   "mimetype": "text/x-python",
   "name": "python",
   "nbconvert_exporter": "python",
   "pygments_lexer": "ipython3",
   "version": "3.12.4"
  }
 },
 "nbformat": 4,
 "nbformat_minor": 5
}
