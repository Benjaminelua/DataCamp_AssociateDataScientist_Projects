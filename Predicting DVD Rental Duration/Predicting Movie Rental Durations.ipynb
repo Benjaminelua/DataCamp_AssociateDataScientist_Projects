{
 "cells": [
  {
   "cell_type": "markdown",
   "id": "b4ae5707-109f-4cd6-8168-88cac0179d6b",
   "metadata": {},
   "source": [
    "![dvd_image](dvd_image.jpg)\n",
    "\n",
    "A DVD rental company needs your help! They want to figure out how many days a customer will rent a DVD for based on some features and has approached you for help. They want you to try out some regression models which will help predict the number of days a customer will rent a DVD for. The company wants a model which yeilds a MSE of 3 or less on a test set. The model you make will help the company become more efficient inventory planning.\n",
    "\n",
    "The data they provided is in the csv file `rental_info.csv`. It has the following features:\n",
    "- `\"rental_date\"`: The date (and time) the customer rents the DVD.\n",
    "- `\"return_date\"`: The date (and time) the customer returns the DVD.\n",
    "- `\"amount\"`: The amount paid by the customer for renting the DVD.\n",
    "- `\"amount_2\"`: The square of `\"amount\"`.\n",
    "- `\"rental_rate\"`: The rate at which the DVD is rented for.\n",
    "- `\"rental_rate_2\"`: The square of `\"rental_rate\"`.\n",
    "- `\"release_year\"`: The year the movie being rented was released.\n",
    "- `\"length\"`: Lenght of the movie being rented, in minuites.\n",
    "- `\"length_2\"`: The square of `\"length\"`.\n",
    "- `\"replacement_cost\"`: The amount it will cost the company to replace the DVD.\n",
    "- `\"special_features\"`: Any special features, for example trailers/deleted scenes that the DVD also has.\n",
    "- `\"NC-17\"`, `\"PG\"`, `\"PG-13\"`, `\"R\"`: These columns are dummy variables of the rating of the movie. It takes the value 1 if the move is rated as the column name and 0 otherwise. For your convinience, the reference dummy has already been dropped."
   ]
  },
  {
   "cell_type": "code",
   "execution_count": 1,
   "id": "a7ede566-910a-445c-b11a-68d192ac8506",
   "metadata": {
    "executionCancelledAt": null,
    "executionTime": 3508,
    "lastExecutedAt": 1750708297257,
    "lastExecutedByKernel": "25612f86-b2ee-4b28-afe2-37b5d6dbd0db",
    "lastScheduledRunId": null,
    "lastSuccessfullyExecutedCode": "import pandas as pd\nimport numpy as np\n\nfrom sklearn.model_selection import train_test_split\nfrom sklearn.metrics import mean_squared_error\nfrom sklearn.linear_model import LinearRegression\nfrom sklearn.ensemble import RandomForestRegressor, GradientBoostingRegressor\n\n# Read csv file \nrental_info_df = pd.read_csv('rental_info.csv')\n\n# Check the dataset infor\n#print(rental_info_df.info())\n\n# Convert the rental_date and retuen_date to datetime format\nrental_info_df['rental_date'] = pd.to_datetime(rental_info_df['rental_date'])\nrental_info_df['return_date'] = pd.to_datetime(rental_info_df['return_date'])\n\n# Compute rental_length_days\nrental_info_df['rental_length_days'] = (rental_info_df['return_date'] - rental_info_df['rental_date']).dt.days\n\n# Create dummies variables from special features\nrental_info_df['deleted_scenes'] = np.where(rental_info_df['special_features'].str.contains('Deleted Scenes'), 1, 0)\nrental_info_df['behind_the_scenes'] = np.where(rental_info_df['special_features'].str.contains('Behind the Scenes'), 1, 0)\n\n# Drop data leakage columns and irrelevant ones\ndrop_cols = [\"rental_date\", \"return_date\", \"special_features\", \"rental_length_days\"]\nX = rental_info_df.drop(columns = drop_cols)\ny = rental_info_df['rental_length_days']\n\n# Split into train and test sets\nX_train, X_test, y_train, y_test = train_test_split(X, y, test_size=0.2, random_state=9)\n\n# Try different models\nmodels = [\n    (\"LinearRegression\", LinearRegression()),\n    (\"RandomForest\", RandomForestRegressor(random_state=9)),\n    (\"GradientBoosting\", GradientBoostingRegressor(random_state=9))\n]\n\nbest_mse = float(\"inf\")\nbest_model = None\n\nfor name, model in models:\n    model.fit(X_train, y_train)\n    y_pred = model.predict(X_test)\n    mse = mean_squared_error(y_test, y_pred)\n    if mse < best_mse:\n        best_mse = mse\n        best_model = model\n\nprint(f\"Best model: {type(best_model).__name__}\")\nprint(f\"Test MSE: {best_mse:.4f}\")",
    "outputsMetadata": {
     "0": {
      "height": 59,
      "type": "stream"
     }
    }
   },
   "outputs": [
    {
     "name": "stdout",
     "output_type": "stream",
     "text": [
      "<class 'pandas.core.frame.DataFrame'>\n",
      "RangeIndex: 15861 entries, 0 to 15860\n",
      "Data columns (total 15 columns):\n",
      " #   Column            Non-Null Count  Dtype  \n",
      "---  ------            --------------  -----  \n",
      " 0   rental_date       15861 non-null  object \n",
      " 1   return_date       15861 non-null  object \n",
      " 2   amount            15861 non-null  float64\n",
      " 3   release_year      15861 non-null  float64\n",
      " 4   rental_rate       15861 non-null  float64\n",
      " 5   length            15861 non-null  float64\n",
      " 6   replacement_cost  15861 non-null  float64\n",
      " 7   special_features  15861 non-null  object \n",
      " 8   NC-17             15861 non-null  int64  \n",
      " 9   PG                15861 non-null  int64  \n",
      " 10  PG-13             15861 non-null  int64  \n",
      " 11  R                 15861 non-null  int64  \n",
      " 12  amount_2          15861 non-null  float64\n",
      " 13  length_2          15861 non-null  float64\n",
      " 14  rental_rate_2     15861 non-null  float64\n",
      "dtypes: float64(8), int64(4), object(3)\n",
      "memory usage: 1.8+ MB\n",
      "None\n",
      "Best model: RandomForestRegressor\n",
      "Test MSE: 2.0301\n"
     ]
    }
   ],
   "source": [
    "import pandas as pd\n",
    "import numpy as np\n",
    "\n",
    "from sklearn.model_selection import train_test_split\n",
    "from sklearn.metrics import mean_squared_error\n",
    "from sklearn.linear_model import LinearRegression\n",
    "from sklearn.ensemble import RandomForestRegressor, GradientBoostingRegressor\n",
    "\n",
    "# Read csv file \n",
    "rental_info_df = pd.read_csv('rental_info.csv')\n",
    "\n",
    "# Check the dataset infor\n",
    "print(rental_info_df.info())\n",
    "\n",
    "# Convert the rental_date and retuen_date to datetime format\n",
    "rental_info_df['rental_date'] = pd.to_datetime(rental_info_df['rental_date'])\n",
    "rental_info_df['return_date'] = pd.to_datetime(rental_info_df['return_date'])\n",
    "\n",
    "# Compute rental_length_days\n",
    "rental_info_df['rental_length_days'] = (rental_info_df['return_date'] - rental_info_df['rental_date']).dt.days\n",
    "\n",
    "# Create dummies variables from special features\n",
    "rental_info_df['deleted_scenes'] = np.where(rental_info_df['special_features'].str.contains('Deleted Scenes'), 1, 0)\n",
    "rental_info_df['behind_the_scenes'] = np.where(rental_info_df['special_features'].str.contains('Behind the Scenes'), 1, 0)\n",
    "\n",
    "# Drop data leakage columns and irrelevant ones\n",
    "drop_cols = [\"rental_date\", \"return_date\", \"special_features\", \"rental_length_days\"]\n",
    "X = rental_info_df.drop(columns = drop_cols)\n",
    "y = rental_info_df['rental_length_days']\n",
    "\n",
    "# Split into train and test sets\n",
    "X_train, X_test, y_train, y_test = train_test_split(X, y, test_size=0.2, random_state=9)\n",
    "\n",
    "# Try different models\n",
    "models = [\n",
    "    (\"LinearRegression\", LinearRegression()),\n",
    "    (\"RandomForest\", RandomForestRegressor(random_state=9)),\n",
    "    (\"GradientBoosting\", GradientBoostingRegressor(random_state=9))\n",
    "]\n",
    "\n",
    "best_mse = float(\"inf\")\n",
    "best_model = None\n",
    "\n",
    "for name, model in models:\n",
    "    model.fit(X_train, y_train)\n",
    "    y_pred = model.predict(X_test)\n",
    "    mse = mean_squared_error(y_test, y_pred)\n",
    "    if mse < best_mse:\n",
    "        best_mse = mse\n",
    "        best_model = model\n",
    "\n",
    "# Print best model and MSE score\n",
    "print(f\"Best model: {type(best_model).__name__}\")\n",
    "print(f\"Test MSE: {best_mse:.4f}\")"
   ]
  },
  {
   "cell_type": "code",
   "execution_count": null,
   "id": "ab79c7b3-9909-49d4-8df5-35eb47f3c244",
   "metadata": {},
   "outputs": [],
   "source": []
  }
 ],
 "metadata": {
  "colab": {
   "name": "Welcome to DataCamp Workspaces.ipynb",
   "provenance": []
  },
  "kernelspec": {
   "display_name": "Python 3 (ipykernel)",
   "language": "python",
   "name": "python3"
  },
  "language_info": {
   "codemirror_mode": {
    "name": "ipython",
    "version": 3
   },
   "file_extension": ".py",
   "mimetype": "text/x-python",
   "name": "python",
   "nbconvert_exporter": "python",
   "pygments_lexer": "ipython3",
   "version": "3.12.4"
  }
 },
 "nbformat": 4,
 "nbformat_minor": 5
}
