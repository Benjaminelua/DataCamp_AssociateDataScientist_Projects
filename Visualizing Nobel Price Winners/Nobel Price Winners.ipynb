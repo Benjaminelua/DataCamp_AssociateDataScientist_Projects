{
 "cells": [
  {
   "cell_type": "markdown",
   "id": "db5bd2ce-918a-4f7d-a927-a3ea74c4b456",
   "metadata": {},
   "source": [
    "The Nobel Prize has been among the most prestigious international awards since 1901. Each year, awards are bestowed in chemistry, literature, physics, physiology or medicine, economics, and peace. In addition to the honor, prestige, and substantial prize money, the recipient also gets a gold medal with an image of Alfred Nobel (1833 - 1896), who established the prize.\n",
    "\n",
    "![](Nobel_Prize.png)\n",
    "\n",
    "The Nobel Foundation has made a dataset available of all prize winners from the outset of the awards from 1901 to 2023. The dataset used in this project is from the Nobel Prize API and is available in the `nobel.csv` file in the `data` folder.\n",
    "\n",
    "In this project, you'll get a chance to explore and answer several questions related to this prizewinning data. And we encourage you then to explore further questions that you're interested in!"
   ]
  },
  {
   "cell_type": "code",
   "execution_count": 17,
   "id": "11fd5946-7bd1-495c-aa7f-ff6e7e4a350b",
   "metadata": {
    "executionCancelledAt": null,
    "executionTime": 33,
    "lastExecutedAt": 1744066444624,
    "lastExecutedByKernel": "c910200a-cf00-44aa-97ce-bf4d9147c473",
    "lastScheduledRunId": null,
    "lastSuccessfullyExecutedCode": "# Loading in required libraries\nimport pandas as pd\nimport seaborn as sns\nimport numpy as np\n\n# Start coding here!\ndf = pd.read_csv(\"data/nobel.csv\")\n#df.head()\n\n# The most commonly awarded gender\ntop_gender = df[\"sex\"].value_counts().idxmax()\n\n#The most commonly awarded country\ntop_country = df[\"birth_country\"].value_counts().idxmax()\n\nprint(\"The most commonly awarded gender and birth country is \" +top_gender+ \" and \" +top_country+ \" respectively\")\n\n\n#Decade with the highest ratio of US-born Nobel Prize winners\n#Creating a decade column\ndf[\"decade\"] = (df[\"year\"] // 10) * 10\n\n#Filtering for US-born winners\ndf[\"born_in_usa\"] = df[\"birth_country\"] == \"United States of America\"\n\n#Grouping by decade and taking the ratio\nratio_by_decade = df.groupby(\"decade\")[\"born_in_usa\"].mean()\n\n#Getting the decade with the highest ratio\nmax_decade_usa = int(ratio_by_decade.idxmax())\nprint(\"The \" + str(max_decade_usa) + \"s have the highest ratio of US-born Nobel Prize winners to total winners\")\n\n\n#Cobination of decade and Nobel price category with the highest proportion of female laureates\n#creating boolean column for female laureates\ndf[\"is_female\"] = df[\"sex\"] == \"Female\"\n\n#grouping by decade and category then taking the proportion of proportion of female\nratio_of_female = df.groupby([\"decade\", \"category\"])[\"is_female\"].mean()\n\n#getting the decade category pair with the highest ratio\nmax_pair = ratio_of_female.idxmax()\n\n# storing the results as a dictionary\nmax_female_dict = {max_pair[0]:max_pair[1]}\n\n\n#The first woman to receive a Nobel Prize and what category\n#Subsetting for female laureates\nfemale_laureates = df[df[\"sex\"] == \"Female\"]\n\n#Sorting and graping the earliest female\nfirst_woman = female_laureates.sort_values(\"year\").iloc[0]\n\n#getting the name of the first woman and the category\nfirst_woman_name =first_woman[\"full_name\"]\nfirst_woman_category = first_woman[\"category\"]\nprint(str(first_woman_name) + \" was the first woman to receive a Nobel Prize in the \"+str(first_woman_category)+ \" category\")\n\n#Individuals and organizations that have won more that one Nobel prize\n#counting the nobel prize per name\nprize_counts = df[\"full_name\"].value_counts()\n\n#Storing the names in list\nrepeat_list = prize_counts[prize_counts >1].index.tolist()\n\n",
    "outputsMetadata": {
     "0": {
      "height": 80,
      "type": "stream"
     }
    }
   },
   "outputs": [
    {
     "name": "stdout",
     "output_type": "stream",
     "text": [
      "The most commonly awarded gender and birth country is Male and United States of America respectively\n",
      "The 2000s have the highest ratio of US-born Nobel Prize winners to total winners\n",
      "Marie Curie, née Sklodowska was the first woman to receive a Nobel Prize in the Physics category\n"
     ]
    }
   ],
   "source": [
    "# Loading in required libraries\n",
    "import pandas as pd\n",
    "import seaborn as sns\n",
    "import numpy as np\n",
    "\n",
    "#Reading the csv file \n",
    "df = pd.read_csv(\"data/nobel.csv\")\n",
    "#df.head()\n",
    "\n",
    "# The most commonly awarded gender\n",
    "top_gender = df[\"sex\"].value_counts().idxmax()\n",
    "\n",
    "#The most commonly awarded country\n",
    "top_country = df[\"birth_country\"].value_counts().idxmax()\n",
    "\n",
    "print(\"The most commonly awarded gender and birth country is \" +top_gender+ \" and \" +top_country+ \" respectively\")\n",
    "\n",
    "\n",
    "#Decade with the highest ratio of US-born Nobel Prize winners\n",
    "#Creating a decade column\n",
    "df[\"decade\"] = (df[\"year\"] // 10) * 10\n",
    "\n",
    "#Filtering for US-born winners\n",
    "df[\"born_in_usa\"] = df[\"birth_country\"] == \"United States of America\"\n",
    "\n",
    "#Grouping by decade and taking the ratio\n",
    "ratio_by_decade = df.groupby(\"decade\")[\"born_in_usa\"].mean()\n",
    "\n",
    "#Getting the decade with the highest ratio\n",
    "max_decade_usa = int(ratio_by_decade.idxmax())\n",
    "print(\"The \" + str(max_decade_usa) + \"s have the highest ratio of US-born Nobel Prize winners to total winners\")\n",
    "\n",
    "\n",
    "#Cobination of decade and Nobel price category with the highest proportion of female laureates\n",
    "#creating boolean column for female laureates\n",
    "df[\"is_female\"] = df[\"sex\"] == \"Female\"\n",
    "\n",
    "#grouping by decade and category then taking the proportion of proportion of female\n",
    "ratio_of_female = df.groupby([\"decade\", \"category\"])[\"is_female\"].mean()\n",
    "\n",
    "#getting the decade category pair with the highest ratio\n",
    "max_pair = ratio_of_female.idxmax()\n",
    "\n",
    "# storing the results as a dictionary\n",
    "max_female_dict = {max_pair[0]:max_pair[1]}\n",
    "\n",
    "\n",
    "#The first woman to receive a Nobel Prize and what category\n",
    "#Subsetting for female laureates\n",
    "female_laureates = df[df[\"sex\"] == \"Female\"]\n",
    "\n",
    "#Sorting and graping the earliest female\n",
    "first_woman = female_laureates.sort_values(\"year\").iloc[0]\n",
    "\n",
    "#getting the name of the first woman and the category\n",
    "first_woman_name =first_woman[\"full_name\"]\n",
    "first_woman_category = first_woman[\"category\"]\n",
    "print(str(first_woman_name) + \" was the first woman to receive a Nobel Prize in the \"+str(first_woman_category)+ \" category\")\n",
    "\n",
    "#Individuals and organizations that have won more that one Nobel prize\n",
    "#counting the nobel prize per name\n",
    "prize_counts = df[\"full_name\"].value_counts()\n",
    "\n",
    "#Storing the names in list\n",
    "repeat_list = prize_counts[prize_counts >1].index.tolist()\n",
    "\n"
   ]
  },
  {
   "cell_type": "code",
   "execution_count": 17,
   "id": "4a73cc27-5806-4361-a9b0-c902a270fb0d",
   "metadata": {
    "collapsed": false,
    "executionCancelledAt": null,
    "executionTime": 53,
    "jupyter": {
     "outputs_hidden": false,
     "source_hidden": false
    },
    "lastExecutedAt": 1744066444677,
    "lastExecutedByKernel": "c910200a-cf00-44aa-97ce-bf4d9147c473",
    "lastScheduledRunId": null,
    "lastSuccessfullyExecutedCode": ""
   },
   "outputs": [],
   "source": []
  }
 ],
 "metadata": {
  "editor": "DataCamp Workspace",
  "kernelspec": {
   "display_name": "Python 3 (ipykernel)",
   "language": "python",
   "name": "python3"
  },
  "language_info": {
   "codemirror_mode": {
    "name": "ipython",
    "version": 3
   },
   "file_extension": ".py",
   "mimetype": "text/x-python",
   "name": "python",
   "nbconvert_exporter": "python",
   "pygments_lexer": "ipython3",
   "version": "3.12.4"
  }
 },
 "nbformat": 4,
 "nbformat_minor": 5
}
