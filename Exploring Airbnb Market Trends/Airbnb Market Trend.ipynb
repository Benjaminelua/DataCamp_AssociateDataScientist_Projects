{
 "cells": [
  {
   "cell_type": "markdown",
   "id": "c747d469-ee97-4b95-880f-feefd5456042",
   "metadata": {
    "id": "bA5ajAmk7XH6"
   },
   "source": [
    "![NYC Skyline](nyc.jpg)\n",
    "\n",
    "Welcome to New York City, one of the most-visited cities in the world. There are many Airbnb listings in New York City to meet the high demand for temporary lodging for travelers, which can be anywhere between a few nights to many months. In this project, we will take a closer look at the New York Airbnb market by combining data from multiple file types like `.csv`, `.tsv`, and `.xlsx`.\n",
    "\n",
    "Recall that **CSV**, **TSV**, and **Excel** files are three common formats for storing data. \n",
    "Three files containing data on 2019 Airbnb listings are available to you:\n",
    "\n",
    "**data/airbnb_price.csv**\n",
    "This is a CSV file containing data on Airbnb listing prices and locations.\n",
    "- **`listing_id`**: unique identifier of listing\n",
    "- **`price`**: nightly listing price in USD\n",
    "- **`nbhood_full`**: name of borough and neighborhood where listing is located\n",
    "\n",
    "**data/airbnb_room_type.xlsx**\n",
    "This is an Excel file containing data on Airbnb listing descriptions and room types.\n",
    "- **`listing_id`**: unique identifier of listing\n",
    "- **`description`**: listing description\n",
    "- **`room_type`**: Airbnb has three types of rooms: shared rooms, private rooms, and entire homes/apartments\n",
    "\n",
    "**data/airbnb_last_review.tsv**\n",
    "This is a TSV file containing data on Airbnb host names and review dates.\n",
    "- **`listing_id`**: unique identifier of listing\n",
    "- **`host_name`**: name of listing host\n",
    "- **`last_review`**: date when the listing was last reviewed"
   ]
  },
  {
   "cell_type": "code",
   "execution_count": 3,
   "id": "1fdc5784-479e-46cb-b05b-68439dcc94a7",
   "metadata": {
    "executionCancelledAt": null,
    "executionTime": 2033,
    "lastExecutedAt": 1746310470520,
    "lastExecutedByKernel": "834b177c-4c2a-41c4-b0ba-027aeeeaa436",
    "lastScheduledRunId": null,
    "lastSuccessfullyExecutedCode": "# Import necessary packages\nimport pandas as pd\nimport numpy as np\n\n# Read the csv file and check the top 5 records\nprices = pd.read_csv('data/airbnb_price.csv')\n#print(prices.head())\n\n#Read the xlsx file and check  the top 5 recoreds\nroom_types = pd.read_excel('data/airbnb_room_type.xlsx')\n#print(room_types.head())\n\n#Read the tsv file and check the top 5 records\nreviews = pd.read_table('data/airbnb_last_review.tsv')\n#print(reviews.head())\n\n#Combining the 3 dataframes \nprices_room = pd.merge(prices, room_types, on = 'listing_id')\nairbnb_listing =pd.merge(prices_room, reviews, on = 'listing_id')\n#print(airbnb_listing.info())\n\n#Convert the last_review column to datetime formate\nairbnb_listing['last_review'] = pd.to_datetime(airbnb_listing['last_review'], format = '%B %d %Y') \n#print(airbnb_listing.info())\n\n#Get the earliest and the most recent date\nearliest_date = airbnb_listing['last_review'].min()\nrecent_date = airbnb_listing['last_review'].max()\n#print(earliest_date)\n#print(recent_date)\n\n#number of listing rooms that are private\nairbnb_listing['room_type'] = airbnb_listing['room_type'].str.lower()\nnumber_of_private_room = (airbnb_listing['room_type'] == 'private room').sum()\n#print(number_of_private_room)\n\n#Remove the dollar string from the column\nairbnb_listing['price'] = airbnb_listing['price'].str.replace('dollars', '')\n\n#Covert price column to float\nairbnb_listing['price'] = airbnb_listing['price'].astype('float')\n\n#Get the average price round to 2 decimal place\naverage_price = round(airbnb_listing['price'].mean(), 2)\n\n#Combines the variables to a dataframe\nreview_dates = pd.DataFrame([{\n    'first_reviewed': earliest_date,\n    'last_reviewed': recent_date,\n    'nb_private_rooms': number_of_private_room,\n    'avg_price': average_price\n}])\nprint(review_dates)",
    "outputsMetadata": {
     "0": {
      "height": 59,
      "type": "stream"
     }
    }
   },
   "outputs": [
    {
     "name": "stdout",
     "output_type": "stream",
     "text": [
      "  first_reviewed last_reviewed  nb_private_rooms  avg_price\n",
      "0     2019-01-01    2019-07-09             11356     141.78\n"
     ]
    }
   ],
   "source": [
    "# Import necessary packages\n",
    "import pandas as pd\n",
    "import numpy as np\n",
    "\n",
    "# Read the csv file and check the top 5 records\n",
    "prices = pd.read_csv('data/airbnb_price.csv')\n",
    "\n",
    "#Read the xlsx file and check  the top 5 recoreds\n",
    "room_types = pd.read_excel('data/airbnb_room_type.xlsx')\n",
    "#print(room_types.head())\n",
    "\n",
    "#Read the tsv file and check the top 5 records\n",
    "reviews = pd.read_table('data/airbnb_last_review.tsv')\n",
    "#print(reviews.head())\n",
    "\n",
    "#Combining the 3 dataframes \n",
    "prices_room = pd.merge(prices, room_types, on = 'listing_id')\n",
    "airbnb_listing =pd.merge(prices_room, reviews, on = 'listing_id')\n",
    "\n",
    "# Convert the last_review column to datetime formate\n",
    "airbnb_listing['last_review'] = pd.to_datetime(airbnb_listing['last_review'], format = '%B %d %Y') \n",
    "\n",
    "# Get the earliest and the most recent date\n",
    "earliest_date = airbnb_listing['last_review'].min()\n",
    "recent_date = airbnb_listing['last_review'].max()\n",
    "#print(earliest_date)\n",
    "\n",
    "# number of listing rooms that are private\n",
    "airbnb_listing['room_type'] = airbnb_listing['room_type'].str.lower()\n",
    "number_of_private_room = (airbnb_listing['room_type'] == 'private room').sum()\n",
    "\n",
    "# Remove the dollar string from the column\n",
    "airbnb_listing['price'] = airbnb_listing['price'].str.replace('dollars', '')\n",
    "\n",
    "# Covert price column to float\n",
    "airbnb_listing['price'] = airbnb_listing['price'].astype('float')\n",
    "\n",
    "# Get the average price round to 2 decimal place\n",
    "average_price = round(airbnb_listing['price'].mean(), 2)\n",
    "\n",
    "# Combines the variables to a dataframe\n",
    "review_dates = pd.DataFrame([{\n",
    "    'first_reviewed': earliest_date,\n",
    "    'last_reviewed': recent_date,\n",
    "    'nb_private_rooms': number_of_private_room,\n",
    "    'avg_price': average_price\n",
    "}])\n",
    "print(review_dates)"
   ]
  },
  {
   "cell_type": "code",
   "execution_count": null,
   "id": "f32d38c2-18ed-48d8-840d-e79f455be5ff",
   "metadata": {},
   "outputs": [],
   "source": []
  }
 ],
 "metadata": {
  "colab": {
   "name": "Welcome to DataCamp Workspaces.ipynb",
   "provenance": []
  },
  "editor": "DataLab",
  "kernelspec": {
   "display_name": "Python 3 (ipykernel)",
   "language": "python",
   "name": "python3"
  },
  "language_info": {
   "codemirror_mode": {
    "name": "ipython",
    "version": 3
   },
   "file_extension": ".py",
   "mimetype": "text/x-python",
   "name": "python",
   "nbconvert_exporter": "python",
   "pygments_lexer": "ipython3",
   "version": "3.12.4"
  }
 },
 "nbformat": 4,
 "nbformat_minor": 5
}
